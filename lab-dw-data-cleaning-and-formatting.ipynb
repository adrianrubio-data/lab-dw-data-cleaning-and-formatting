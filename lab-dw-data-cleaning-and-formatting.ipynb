{
  "cells": [
    {
      "cell_type": "markdown",
      "id": "25d7736c-ba17-4aff-b6bb-66eba20fbf4e",
      "metadata": {
        "id": "25d7736c-ba17-4aff-b6bb-66eba20fbf4e"
      },
      "source": [
        "# Lab | Data Cleaning and Formatting"
      ]
    },
    {
      "cell_type": "markdown",
      "id": "d1973e9e-8be6-4039-b70e-d73ee0d94c99",
      "metadata": {
        "id": "d1973e9e-8be6-4039-b70e-d73ee0d94c99"
      },
      "source": [
        "In this lab, we will be working with the customer data from an insurance company, which can be found in the CSV file located at the following link: https://raw.githubusercontent.com/data-bootcamp-v4/data/main/file1.csv\n"
      ]
    },
    {
      "cell_type": "markdown",
      "id": "31b8a9e7-7db9-4604-991b-ef6771603e57",
      "metadata": {
        "id": "31b8a9e7-7db9-4604-991b-ef6771603e57"
      },
      "source": [
        "# Challenge 1: Data Cleaning and Formatting"
      ]
    },
    {
      "cell_type": "markdown",
      "id": "81553f19-9f2c-484b-8940-520aff884022",
      "metadata": {
        "id": "81553f19-9f2c-484b-8940-520aff884022"
      },
      "source": [
        "## Exercise 1: Cleaning Column Names"
      ]
    },
    {
      "cell_type": "markdown",
      "id": "34a929f4-1be4-4fa8-adda-42ffd920be90",
      "metadata": {
        "id": "34a929f4-1be4-4fa8-adda-42ffd920be90"
      },
      "source": [
        "To ensure consistency and ease of use, standardize the column names of the dataframe. Start by taking a first look at the dataframe and identifying any column names that need to be modified. Use appropriate naming conventions and make sure that column names are descriptive and informative.\n",
        "\n",
        "*Hint*:\n",
        "- *Column names should be in lower case*\n",
        "- *White spaces in column names should be replaced by `_`*\n",
        "- *`st` could be replaced for `state`*"
      ]
    },
    {
      "cell_type": "code",
      "execution_count": 50,
      "id": "5810735c-8056-4442-bbf2-dda38d3e284a",
      "metadata": {
        "id": "5810735c-8056-4442-bbf2-dda38d3e284a"
      },
      "outputs": [
        {
          "data": {
            "text/html": [
              "<div>\n",
              "<style scoped>\n",
              "    .dataframe tbody tr th:only-of-type {\n",
              "        vertical-align: middle;\n",
              "    }\n",
              "\n",
              "    .dataframe tbody tr th {\n",
              "        vertical-align: top;\n",
              "    }\n",
              "\n",
              "    .dataframe thead th {\n",
              "        text-align: right;\n",
              "    }\n",
              "</style>\n",
              "<table border=\"1\" class=\"dataframe\">\n",
              "  <thead>\n",
              "    <tr style=\"text-align: right;\">\n",
              "      <th></th>\n",
              "      <th>Customer</th>\n",
              "      <th>ST</th>\n",
              "      <th>GENDER</th>\n",
              "      <th>Education</th>\n",
              "      <th>Customer Lifetime Value</th>\n",
              "      <th>Income</th>\n",
              "      <th>Monthly Premium Auto</th>\n",
              "      <th>Number of Open Complaints</th>\n",
              "      <th>Policy Type</th>\n",
              "      <th>Vehicle Class</th>\n",
              "      <th>Total Claim Amount</th>\n",
              "    </tr>\n",
              "  </thead>\n",
              "  <tbody>\n",
              "    <tr>\n",
              "      <th>0</th>\n",
              "      <td>RB50392</td>\n",
              "      <td>Washington</td>\n",
              "      <td>NaN</td>\n",
              "      <td>Master</td>\n",
              "      <td>NaN</td>\n",
              "      <td>0.0</td>\n",
              "      <td>1000.0</td>\n",
              "      <td>1/0/00</td>\n",
              "      <td>Personal Auto</td>\n",
              "      <td>Four-Door Car</td>\n",
              "      <td>2.704934</td>\n",
              "    </tr>\n",
              "    <tr>\n",
              "      <th>1</th>\n",
              "      <td>QZ44356</td>\n",
              "      <td>Arizona</td>\n",
              "      <td>F</td>\n",
              "      <td>Bachelor</td>\n",
              "      <td>697953.59%</td>\n",
              "      <td>0.0</td>\n",
              "      <td>94.0</td>\n",
              "      <td>1/0/00</td>\n",
              "      <td>Personal Auto</td>\n",
              "      <td>Four-Door Car</td>\n",
              "      <td>1131.464935</td>\n",
              "    </tr>\n",
              "    <tr>\n",
              "      <th>2</th>\n",
              "      <td>AI49188</td>\n",
              "      <td>Nevada</td>\n",
              "      <td>F</td>\n",
              "      <td>Bachelor</td>\n",
              "      <td>1288743.17%</td>\n",
              "      <td>48767.0</td>\n",
              "      <td>108.0</td>\n",
              "      <td>1/0/00</td>\n",
              "      <td>Personal Auto</td>\n",
              "      <td>Two-Door Car</td>\n",
              "      <td>566.472247</td>\n",
              "    </tr>\n",
              "    <tr>\n",
              "      <th>3</th>\n",
              "      <td>WW63253</td>\n",
              "      <td>California</td>\n",
              "      <td>M</td>\n",
              "      <td>Bachelor</td>\n",
              "      <td>764586.18%</td>\n",
              "      <td>0.0</td>\n",
              "      <td>106.0</td>\n",
              "      <td>1/0/00</td>\n",
              "      <td>Corporate Auto</td>\n",
              "      <td>SUV</td>\n",
              "      <td>529.881344</td>\n",
              "    </tr>\n",
              "    <tr>\n",
              "      <th>4</th>\n",
              "      <td>GA49547</td>\n",
              "      <td>Washington</td>\n",
              "      <td>M</td>\n",
              "      <td>High School or Below</td>\n",
              "      <td>536307.65%</td>\n",
              "      <td>36357.0</td>\n",
              "      <td>68.0</td>\n",
              "      <td>1/0/00</td>\n",
              "      <td>Personal Auto</td>\n",
              "      <td>Four-Door Car</td>\n",
              "      <td>17.269323</td>\n",
              "    </tr>\n",
              "  </tbody>\n",
              "</table>\n",
              "</div>"
            ],
            "text/plain": [
              "  Customer          ST GENDER             Education Customer Lifetime Value  \\\n",
              "0  RB50392  Washington    NaN                Master                     NaN   \n",
              "1  QZ44356     Arizona      F              Bachelor              697953.59%   \n",
              "2  AI49188      Nevada      F              Bachelor             1288743.17%   \n",
              "3  WW63253  California      M              Bachelor              764586.18%   \n",
              "4  GA49547  Washington      M  High School or Below              536307.65%   \n",
              "\n",
              "    Income  Monthly Premium Auto Number of Open Complaints     Policy Type  \\\n",
              "0      0.0                1000.0                    1/0/00   Personal Auto   \n",
              "1      0.0                  94.0                    1/0/00   Personal Auto   \n",
              "2  48767.0                 108.0                    1/0/00   Personal Auto   \n",
              "3      0.0                 106.0                    1/0/00  Corporate Auto   \n",
              "4  36357.0                  68.0                    1/0/00   Personal Auto   \n",
              "\n",
              "   Vehicle Class  Total Claim Amount  \n",
              "0  Four-Door Car            2.704934  \n",
              "1  Four-Door Car         1131.464935  \n",
              "2   Two-Door Car          566.472247  \n",
              "3            SUV          529.881344  \n",
              "4  Four-Door Car           17.269323  "
            ]
          },
          "execution_count": 50,
          "metadata": {},
          "output_type": "execute_result"
        }
      ],
      "source": [
        "import pandas as pd\n",
        "\n",
        "url = \"https://raw.githubusercontent.com/data-bootcamp-v4/data/main/file1.csv\"\n",
        "df = pd.read_csv(url)\n",
        "df.head()"
      ]
    },
    {
      "cell_type": "code",
      "execution_count": 51,
      "id": "1ff14641",
      "metadata": {},
      "outputs": [],
      "source": [
        "def clean_col(name: str) -> str:\n",
        "    s = name.strip().lower()\n",
        "    s = s.replace(\"\\t\", \" \").replace(\"-\", \" \")\n",
        "    \n",
        "    while \"  \" in s:\n",
        "        s = s.replace(\"  \", \" \")\n",
        "\n",
        "    parts = [(\"state\" if p == \"st\" else p) for p in s.split(\" \") if p != \"\"]\n",
        "    s = \"_\".join(parts)\n",
        "\n",
        "    s = s.strip(\"_\")\n",
        "    return s\n"
      ]
    },
    {
      "cell_type": "code",
      "execution_count": 52,
      "id": "f1fdab87",
      "metadata": {},
      "outputs": [],
      "source": [
        "df.columns = [clean_col(c) for c in df.columns]"
      ]
    },
    {
      "cell_type": "code",
      "execution_count": 53,
      "id": "9edc0547",
      "metadata": {},
      "outputs": [
        {
          "data": {
            "text/plain": [
              "['customer',\n",
              " 'state',\n",
              " 'gender',\n",
              " 'education',\n",
              " 'customer_lifetime_value',\n",
              " 'income',\n",
              " 'monthly_premium_auto',\n",
              " 'number_of_open_complaints',\n",
              " 'policy_type',\n",
              " 'vehicle_class',\n",
              " 'total_claim_amount']"
            ]
          },
          "execution_count": 53,
          "metadata": {},
          "output_type": "execute_result"
        }
      ],
      "source": [
        "df.columns.tolist()"
      ]
    },
    {
      "cell_type": "markdown",
      "id": "9cb501ec-36ff-4589-b872-6252bb150316",
      "metadata": {
        "id": "9cb501ec-36ff-4589-b872-6252bb150316"
      },
      "source": [
        "## Exercise 2: Cleaning invalid Values"
      ]
    },
    {
      "cell_type": "markdown",
      "id": "771fdcf3-8e20-4b06-9c24-3a93ba2b0909",
      "metadata": {
        "id": "771fdcf3-8e20-4b06-9c24-3a93ba2b0909"
      },
      "source": [
        "The dataset contains columns with inconsistent and incorrect values that could affect the accuracy of our analysis. Therefore, we need to clean these columns to ensure that they only contain valid data.\n",
        "\n",
        "Note that this exercise will focus only on cleaning inconsistent values and will not involve handling null values (NaN or None).\n",
        "\n",
        "*Hint*:\n",
        "- *Gender column contains various inconsistent values such as \"F\", \"M\", \"Femal\", \"Male\", \"female\", which need to be standardized, for example, to \"M\" and \"F\".*\n",
        "- *State abbreviations be can replaced with its full name, for example \"AZ\": \"Arizona\", \"Cali\": \"California\", \"WA\": \"Washington\"*\n",
        "- *In education, \"Bachelors\" could be replaced by \"Bachelor\"*\n",
        "- *In Customer Lifetime Value, delete the `%` character*\n",
        "- *In vehicle class, \"Sports Car\", \"Luxury SUV\" and \"Luxury Car\" could be replaced by \"Luxury\"*"
      ]
    },
    {
      "cell_type": "code",
      "execution_count": null,
      "id": "3f8ee5cb-50ab-48af-8a9f-9a389804033c",
      "metadata": {
        "id": "3f8ee5cb-50ab-48af-8a9f-9a389804033c"
      },
      "outputs": [],
      "source": [
        "s = df['gender'].astype(str).str.strip().str.lower()\n",
        "\n",
        "df['gender'] = s.map({'f': 'F', 'female': 'F', 'femal': 'F','m': 'M', 'male': 'M'}).fillna(df['gender']) "
      ]
    },
    {
      "cell_type": "code",
      "execution_count": null,
      "id": "c82610dc",
      "metadata": {},
      "outputs": [],
      "source": [
        "s = df['state'].astype(str).str.strip().str.lower()\n",
        "\n",
        "state_map = {'az': 'arizona','wa': 'washington','cali': 'california'}\n",
        "\n",
        "df['state'] = s.replace(state_map).str.title()"
      ]
    },
    {
      "cell_type": "code",
      "execution_count": null,
      "id": "72615707",
      "metadata": {},
      "outputs": [],
      "source": [
        "df['education'] = (df['education'].astype(str).str.strip().str.title().replace({'Bachelors': 'Bachelor'}))"
      ]
    },
    {
      "cell_type": "code",
      "execution_count": null,
      "id": "f4817ccc",
      "metadata": {},
      "outputs": [],
      "source": [
        "df['customer_lifetime_value'] = (df['customer_lifetime_value'].astype(str).str.replace('%', '', regex=False).astype(float))"
      ]
    },
    {
      "cell_type": "code",
      "execution_count": null,
      "id": "6a82e75d",
      "metadata": {},
      "outputs": [
        {
          "data": {
            "text/html": [
              "<div>\n",
              "<style scoped>\n",
              "    .dataframe tbody tr th:only-of-type {\n",
              "        vertical-align: middle;\n",
              "    }\n",
              "\n",
              "    .dataframe tbody tr th {\n",
              "        vertical-align: top;\n",
              "    }\n",
              "\n",
              "    .dataframe thead th {\n",
              "        text-align: right;\n",
              "    }\n",
              "</style>\n",
              "<table border=\"1\" class=\"dataframe\">\n",
              "  <thead>\n",
              "    <tr style=\"text-align: right;\">\n",
              "      <th></th>\n",
              "      <th>customer</th>\n",
              "      <th>state</th>\n",
              "      <th>gender</th>\n",
              "      <th>education</th>\n",
              "      <th>customer_lifetime_value</th>\n",
              "      <th>income</th>\n",
              "      <th>monthly_premium_auto</th>\n",
              "      <th>number_of_open_complaints</th>\n",
              "      <th>policy_type</th>\n",
              "      <th>vehicle_class</th>\n",
              "      <th>total_claim_amount</th>\n",
              "    </tr>\n",
              "  </thead>\n",
              "  <tbody>\n",
              "    <tr>\n",
              "      <th>0</th>\n",
              "      <td>RB50392</td>\n",
              "      <td>Washington</td>\n",
              "      <td>NaN</td>\n",
              "      <td>Master</td>\n",
              "      <td>NaN</td>\n",
              "      <td>0.0</td>\n",
              "      <td>1000.0</td>\n",
              "      <td>1/0/00</td>\n",
              "      <td>Personal Auto</td>\n",
              "      <td>Four-Door Car</td>\n",
              "      <td>2.704934</td>\n",
              "    </tr>\n",
              "    <tr>\n",
              "      <th>1</th>\n",
              "      <td>QZ44356</td>\n",
              "      <td>Arizona</td>\n",
              "      <td>F</td>\n",
              "      <td>Bachelor</td>\n",
              "      <td>697953.59</td>\n",
              "      <td>0.0</td>\n",
              "      <td>94.0</td>\n",
              "      <td>1/0/00</td>\n",
              "      <td>Personal Auto</td>\n",
              "      <td>Four-Door Car</td>\n",
              "      <td>1131.464935</td>\n",
              "    </tr>\n",
              "    <tr>\n",
              "      <th>2</th>\n",
              "      <td>AI49188</td>\n",
              "      <td>Nevada</td>\n",
              "      <td>F</td>\n",
              "      <td>Bachelor</td>\n",
              "      <td>1288743.17</td>\n",
              "      <td>48767.0</td>\n",
              "      <td>108.0</td>\n",
              "      <td>1/0/00</td>\n",
              "      <td>Personal Auto</td>\n",
              "      <td>Two-Door Car</td>\n",
              "      <td>566.472247</td>\n",
              "    </tr>\n",
              "    <tr>\n",
              "      <th>3</th>\n",
              "      <td>WW63253</td>\n",
              "      <td>California</td>\n",
              "      <td>M</td>\n",
              "      <td>Bachelor</td>\n",
              "      <td>764586.18</td>\n",
              "      <td>0.0</td>\n",
              "      <td>106.0</td>\n",
              "      <td>1/0/00</td>\n",
              "      <td>Corporate Auto</td>\n",
              "      <td>Suv</td>\n",
              "      <td>529.881344</td>\n",
              "    </tr>\n",
              "    <tr>\n",
              "      <th>4</th>\n",
              "      <td>GA49547</td>\n",
              "      <td>Washington</td>\n",
              "      <td>M</td>\n",
              "      <td>High School Or Below</td>\n",
              "      <td>536307.65</td>\n",
              "      <td>36357.0</td>\n",
              "      <td>68.0</td>\n",
              "      <td>1/0/00</td>\n",
              "      <td>Personal Auto</td>\n",
              "      <td>Four-Door Car</td>\n",
              "      <td>17.269323</td>\n",
              "    </tr>\n",
              "  </tbody>\n",
              "</table>\n",
              "</div>"
            ],
            "text/plain": [
              "  customer       state gender             education  customer_lifetime_value  \\\n",
              "0  RB50392  Washington    NaN                Master                      NaN   \n",
              "1  QZ44356     Arizona      F              Bachelor                697953.59   \n",
              "2  AI49188      Nevada      F              Bachelor               1288743.17   \n",
              "3  WW63253  California      M              Bachelor                764586.18   \n",
              "4  GA49547  Washington      M  High School Or Below                536307.65   \n",
              "\n",
              "    income  monthly_premium_auto number_of_open_complaints     policy_type  \\\n",
              "0      0.0                1000.0                    1/0/00   Personal Auto   \n",
              "1      0.0                  94.0                    1/0/00   Personal Auto   \n",
              "2  48767.0                 108.0                    1/0/00   Personal Auto   \n",
              "3      0.0                 106.0                    1/0/00  Corporate Auto   \n",
              "4  36357.0                  68.0                    1/0/00   Personal Auto   \n",
              "\n",
              "   vehicle_class  total_claim_amount  \n",
              "0  Four-Door Car            2.704934  \n",
              "1  Four-Door Car         1131.464935  \n",
              "2   Two-Door Car          566.472247  \n",
              "3            Suv          529.881344  \n",
              "4  Four-Door Car           17.269323  "
            ]
          },
          "execution_count": 29,
          "metadata": {},
          "output_type": "execute_result"
        }
      ],
      "source": [
        "df['vehicle_class'] = (df['vehicle_class'].astype(str).str.strip().str.title().replace({'Sports Car': 'Luxury','Luxury Suv': 'Luxury','Luxury Car': 'Luxury'}))\n",
        "df.head()"
      ]
    },
    {
      "cell_type": "markdown",
      "id": "85ff78ce-0174-4890-9db3-8048b7d7d2d0",
      "metadata": {
        "id": "85ff78ce-0174-4890-9db3-8048b7d7d2d0"
      },
      "source": [
        "## Exercise 3: Formatting data types"
      ]
    },
    {
      "cell_type": "markdown",
      "id": "b91c2cf8-79a2-4baf-9f65-ff2fb22270bd",
      "metadata": {
        "id": "b91c2cf8-79a2-4baf-9f65-ff2fb22270bd"
      },
      "source": [
        "The data types of many columns in the dataset appear to be incorrect. This could impact the accuracy of our analysis. To ensure accurate analysis, we need to correct the data types of these columns. Please update the data types of the columns as appropriate."
      ]
    },
    {
      "cell_type": "markdown",
      "id": "43e5d853-ff9e-43b2-9d92-aef2f78764f3",
      "metadata": {
        "id": "43e5d853-ff9e-43b2-9d92-aef2f78764f3"
      },
      "source": [
        "It is important to note that this exercise does not involve handling null values (NaN or None)."
      ]
    },
    {
      "cell_type": "markdown",
      "id": "329ca691-9196-4419-8969-3596746237a1",
      "metadata": {
        "id": "329ca691-9196-4419-8969-3596746237a1"
      },
      "source": [
        "*Hint*:\n",
        "- *Customer lifetime value should be numeric*\n",
        "- *Number of open complaints has an incorrect format. Look at the different values it takes with `unique()` and take the middle value. As an example, 1/5/00 should be 5. Number of open complaints is a string - remember you can use `split()` to deal with it and take the number you need. Finally, since it should be numeric, cast the column to be in its proper type.*"
      ]
    },
    {
      "cell_type": "code",
      "execution_count": null,
      "id": "5e162579",
      "metadata": {},
      "outputs": [
        {
          "data": {
            "text/plain": [
              "customer                      object\n",
              "state                         object\n",
              "gender                        object\n",
              "education                     object\n",
              "customer_lifetime_value      float64\n",
              "income                       float64\n",
              "monthly_premium_auto         float64\n",
              "number_of_open_complaints     object\n",
              "policy_type                   object\n",
              "vehicle_class                 object\n",
              "total_claim_amount           float64\n",
              "dtype: object"
            ]
          },
          "execution_count": 38,
          "metadata": {},
          "output_type": "execute_result"
        }
      ],
      "source": [
        "df.dtypes   "
      ]
    },
    {
      "cell_type": "code",
      "execution_count": null,
      "id": "eb8f5991-73e9-405f-bf1c-6b7c589379a9",
      "metadata": {
        "id": "eb8f5991-73e9-405f-bf1c-6b7c589379a9"
      },
      "outputs": [
        {
          "data": {
            "text/plain": [
              "0           NaN\n",
              "1     697953.59\n",
              "2    1288743.17\n",
              "3     764586.18\n",
              "4     536307.65\n",
              "5     825629.78\n",
              "6     538089.86\n",
              "7     721610.03\n",
              "8    2412750.40\n",
              "9     738817.81\n",
              "Name: customer_lifetime_value, dtype: float64"
            ]
          },
          "execution_count": 40,
          "metadata": {},
          "output_type": "execute_result"
        }
      ],
      "source": [
        "df['customer_lifetime_value'] = pd.to_numeric(df['customer_lifetime_value'], errors='coerce')\n",
        "df['customer_lifetime_value'].head(10) "
      ]
    },
    {
      "cell_type": "code",
      "execution_count": null,
      "id": "0ad28c28",
      "metadata": {},
      "outputs": [
        {
          "data": {
            "text/plain": [
              "customer_lifetime_value    float64\n",
              "dtype: object"
            ]
          },
          "execution_count": 41,
          "metadata": {},
          "output_type": "execute_result"
        }
      ],
      "source": [
        "df[['customer_lifetime_value']].dtypes   "
      ]
    },
    {
      "cell_type": "code",
      "execution_count": null,
      "id": "68231c03",
      "metadata": {},
      "outputs": [
        {
          "data": {
            "text/plain": [
              "0    0\n",
              "1    0\n",
              "2    0\n",
              "3    0\n",
              "4    0\n",
              "5    0\n",
              "6    0\n",
              "7    0\n",
              "8    0\n",
              "9    0\n",
              "Name: number_of_open_complaints, dtype: Int64"
            ]
          },
          "execution_count": 42,
          "metadata": {},
          "output_type": "execute_result"
        }
      ],
      "source": [
        "mid = (df['number_of_open_complaints']\n",
        "       .astype(str)\n",
        "       .str.replace('-', '/', regex=False)\n",
        "       .str.split('/')                      \n",
        "       .str.get(1)) \n",
        "\n",
        "df['number_of_open_complaints'] = pd.to_numeric(mid, errors='coerce').astype('Int64')\n",
        "df['number_of_open_complaints'].head(10)"
      ]
    },
    {
      "cell_type": "code",
      "execution_count": null,
      "id": "4a97b81c",
      "metadata": {},
      "outputs": [
        {
          "data": {
            "text/plain": [
              "number_of_open_complaints    Int64\n",
              "dtype: object"
            ]
          },
          "execution_count": 43,
          "metadata": {},
          "output_type": "execute_result"
        }
      ],
      "source": [
        "df[['number_of_open_complaints']].dtypes  "
      ]
    },
    {
      "cell_type": "markdown",
      "id": "14c52e28-2d0c-4dd2-8bd5-3476e34fadc1",
      "metadata": {
        "id": "14c52e28-2d0c-4dd2-8bd5-3476e34fadc1"
      },
      "source": [
        "## Exercise 4: Dealing with Null values"
      ]
    },
    {
      "cell_type": "markdown",
      "id": "34b9a20f-7d32-4417-975e-1b4dfb0e16cd",
      "metadata": {
        "id": "34b9a20f-7d32-4417-975e-1b4dfb0e16cd"
      },
      "source": [
        "Identify any columns with null or missing values. Identify how many null values each column has. You can use the `isnull()` function in pandas to find columns with null values.\n",
        "\n",
        "Decide on a strategy for handling the null values. There are several options, including:\n",
        "\n",
        "- Drop the rows or columns with null values\n",
        "- Fill the null values with a specific value (such as the column mean or median for numerical variables, and mode for categorical variables)\n",
        "- Fill the null values with the previous or next value in the column\n",
        "- Fill the null values based on a more complex algorithm or model (note: we haven't covered this yet)\n",
        "\n",
        "Implement your chosen strategy to handle the null values. You can use the `fillna()` function in pandas to fill null values or `dropna()` function to drop null values.\n",
        "\n",
        "Verify that your strategy has successfully handled the null values. You can use the `isnull()` function again to check if there are still null values in the dataset.\n",
        "\n",
        "Remember to document your process and explain your reasoning for choosing a particular strategy for handling null values.\n",
        "\n",
        "After formatting data types, as a last step, convert all the numeric variables to integers."
      ]
    },
    {
      "cell_type": "code",
      "execution_count": null,
      "id": "f184fc35-7831-4836-a0a5-e7f99e01b40e",
      "metadata": {
        "id": "f184fc35-7831-4836-a0a5-e7f99e01b40e"
      },
      "outputs": [
        {
          "data": {
            "text/plain": [
              "customer                     2937\n",
              "state                           0\n",
              "gender                       3054\n",
              "education                       0\n",
              "customer_lifetime_value      2940\n",
              "income                       2937\n",
              "monthly_premium_auto         2937\n",
              "number_of_open_complaints    2937\n",
              "policy_type                  2937\n",
              "vehicle_class                   0\n",
              "total_claim_amount           2937\n",
              "dtype: int64"
            ]
          },
          "execution_count": 44,
          "metadata": {},
          "output_type": "execute_result"
        }
      ],
      "source": [
        "df.isnull().sum() "
      ]
    },
    {
      "cell_type": "code",
      "execution_count": null,
      "id": "7ea01593",
      "metadata": {},
      "outputs": [
        {
          "data": {
            "text/plain": [
              "customer                     73.278443\n",
              "state                         0.000000\n",
              "gender                       76.197605\n",
              "education                     0.000000\n",
              "customer_lifetime_value      73.353293\n",
              "income                       73.278443\n",
              "monthly_premium_auto         73.278443\n",
              "number_of_open_complaints    73.278443\n",
              "policy_type                  73.278443\n",
              "vehicle_class                 0.000000\n",
              "total_claim_amount           73.278443\n",
              "dtype: float64"
            ]
          },
          "execution_count": 45,
          "metadata": {},
          "output_type": "execute_result"
        }
      ],
      "source": [
        "(df.isnull().sum() / len(df)) * 100 "
      ]
    },
    {
      "cell_type": "code",
      "execution_count": 46,
      "id": "7e7d7142",
      "metadata": {},
      "outputs": [
        {
          "data": {
            "text/html": [
              "<div>\n",
              "<style scoped>\n",
              "    .dataframe tbody tr th:only-of-type {\n",
              "        vertical-align: middle;\n",
              "    }\n",
              "\n",
              "    .dataframe tbody tr th {\n",
              "        vertical-align: top;\n",
              "    }\n",
              "\n",
              "    .dataframe thead th {\n",
              "        text-align: right;\n",
              "    }\n",
              "</style>\n",
              "<table border=\"1\" class=\"dataframe\">\n",
              "  <thead>\n",
              "    <tr style=\"text-align: right;\">\n",
              "      <th></th>\n",
              "      <th>customer</th>\n",
              "      <th>state</th>\n",
              "      <th>gender</th>\n",
              "      <th>education</th>\n",
              "      <th>customer_lifetime_value</th>\n",
              "      <th>income</th>\n",
              "      <th>monthly_premium_auto</th>\n",
              "      <th>number_of_open_complaints</th>\n",
              "      <th>policy_type</th>\n",
              "      <th>vehicle_class</th>\n",
              "      <th>total_claim_amount</th>\n",
              "    </tr>\n",
              "  </thead>\n",
              "  <tbody>\n",
              "    <tr>\n",
              "      <th>0</th>\n",
              "      <td>RB50392</td>\n",
              "      <td>Washington</td>\n",
              "      <td>F</td>\n",
              "      <td>Master</td>\n",
              "      <td>588174.235</td>\n",
              "      <td>0.0</td>\n",
              "      <td>1000.0</td>\n",
              "      <td>0</td>\n",
              "      <td>Personal Auto</td>\n",
              "      <td>Four-Door Car</td>\n",
              "      <td>2.704934</td>\n",
              "    </tr>\n",
              "    <tr>\n",
              "      <th>1</th>\n",
              "      <td>QZ44356</td>\n",
              "      <td>Arizona</td>\n",
              "      <td>F</td>\n",
              "      <td>Bachelor</td>\n",
              "      <td>697953.590</td>\n",
              "      <td>0.0</td>\n",
              "      <td>94.0</td>\n",
              "      <td>0</td>\n",
              "      <td>Personal Auto</td>\n",
              "      <td>Four-Door Car</td>\n",
              "      <td>1131.464935</td>\n",
              "    </tr>\n",
              "    <tr>\n",
              "      <th>2</th>\n",
              "      <td>AI49188</td>\n",
              "      <td>Nevada</td>\n",
              "      <td>F</td>\n",
              "      <td>Bachelor</td>\n",
              "      <td>1288743.170</td>\n",
              "      <td>48767.0</td>\n",
              "      <td>108.0</td>\n",
              "      <td>0</td>\n",
              "      <td>Personal Auto</td>\n",
              "      <td>Two-Door Car</td>\n",
              "      <td>566.472247</td>\n",
              "    </tr>\n",
              "    <tr>\n",
              "      <th>3</th>\n",
              "      <td>WW63253</td>\n",
              "      <td>California</td>\n",
              "      <td>M</td>\n",
              "      <td>Bachelor</td>\n",
              "      <td>764586.180</td>\n",
              "      <td>0.0</td>\n",
              "      <td>106.0</td>\n",
              "      <td>0</td>\n",
              "      <td>Corporate Auto</td>\n",
              "      <td>Suv</td>\n",
              "      <td>529.881344</td>\n",
              "    </tr>\n",
              "    <tr>\n",
              "      <th>4</th>\n",
              "      <td>GA49547</td>\n",
              "      <td>Washington</td>\n",
              "      <td>M</td>\n",
              "      <td>High School Or Below</td>\n",
              "      <td>536307.650</td>\n",
              "      <td>36357.0</td>\n",
              "      <td>68.0</td>\n",
              "      <td>0</td>\n",
              "      <td>Personal Auto</td>\n",
              "      <td>Four-Door Car</td>\n",
              "      <td>17.269323</td>\n",
              "    </tr>\n",
              "  </tbody>\n",
              "</table>\n",
              "</div>"
            ],
            "text/plain": [
              "  customer       state gender             education  customer_lifetime_value  \\\n",
              "0  RB50392  Washington      F                Master               588174.235   \n",
              "1  QZ44356     Arizona      F              Bachelor               697953.590   \n",
              "2  AI49188      Nevada      F              Bachelor              1288743.170   \n",
              "3  WW63253  California      M              Bachelor               764586.180   \n",
              "4  GA49547  Washington      M  High School Or Below               536307.650   \n",
              "\n",
              "    income  monthly_premium_auto  number_of_open_complaints     policy_type  \\\n",
              "0      0.0                1000.0                          0   Personal Auto   \n",
              "1      0.0                  94.0                          0   Personal Auto   \n",
              "2  48767.0                 108.0                          0   Personal Auto   \n",
              "3      0.0                 106.0                          0  Corporate Auto   \n",
              "4  36357.0                  68.0                          0   Personal Auto   \n",
              "\n",
              "   vehicle_class  total_claim_amount  \n",
              "0  Four-Door Car            2.704934  \n",
              "1  Four-Door Car         1131.464935  \n",
              "2   Two-Door Car          566.472247  \n",
              "3            Suv          529.881344  \n",
              "4  Four-Door Car           17.269323  "
            ]
          },
          "execution_count": 46,
          "metadata": {},
          "output_type": "execute_result"
        }
      ],
      "source": [
        "for col in df.columns:\n",
        "    if df[col].dtype in ['float64', 'int64', 'Int64']:     # numéricos\n",
        "        df[col] = df[col].fillna(df[col].median())\n",
        "    else:                                                  # categóricos\n",
        "        df[col] = df[col].fillna(df[col].mode()[0])\n",
        "\n",
        "df.head() "
      ]
    },
    {
      "cell_type": "code",
      "execution_count": 57,
      "id": "6b54ca2e",
      "metadata": {},
      "outputs": [
        {
          "data": {
            "text/plain": [
              "customer                     2937\n",
              "state                        2937\n",
              "gender                       3054\n",
              "education                    2937\n",
              "customer_lifetime_value      2940\n",
              "income                       2937\n",
              "monthly_premium_auto         2937\n",
              "number_of_open_complaints    2937\n",
              "policy_type                  2937\n",
              "vehicle_class                2937\n",
              "total_claim_amount           2937\n",
              "dtype: int64"
            ]
          },
          "execution_count": 57,
          "metadata": {},
          "output_type": "execute_result"
        }
      ],
      "source": [
        "df.isnull().sum()"
      ]
    },
    {
      "cell_type": "code",
      "execution_count": 62,
      "id": "2a309aea",
      "metadata": {},
      "outputs": [
        {
          "data": {
            "text/plain": [
              "income                  2937\n",
              "monthly_premium_auto    2937\n",
              "total_claim_amount      2937\n",
              "dtype: int64"
            ]
          },
          "execution_count": 62,
          "metadata": {},
          "output_type": "execute_result"
        }
      ],
      "source": [
        "num_cols = df.select_dtypes(include=['float64','int64','Int64']).columns\n",
        "df[num_cols] = df[num_cols].replace([float('inf'), -float('inf')], pd.NA)\n",
        "\n",
        "df[num_cols].isna().sum().sort_values(ascending=False)\n"
      ]
    },
    {
      "cell_type": "markdown",
      "id": "98416351-e999-4156-9834-9b00a311adfa",
      "metadata": {
        "id": "98416351-e999-4156-9834-9b00a311adfa"
      },
      "source": [
        "## Exercise 5: Dealing with duplicates"
      ]
    },
    {
      "cell_type": "markdown",
      "id": "ea0816a7-a18e-4d4c-b667-a8452a800bd1",
      "metadata": {
        "id": "ea0816a7-a18e-4d4c-b667-a8452a800bd1"
      },
      "source": [
        "Use the `.duplicated()` method to identify any duplicate rows in the dataframe.\n",
        "\n",
        "Decide on a strategy for handling the duplicates. Options include:\n",
        "- Dropping all duplicate rows\n",
        "- Keeping only the first occurrence of each duplicated row\n",
        "- Keeping only the last occurrence of each duplicated row\n",
        "- Dropping duplicates based on a subset of columns\n",
        "- Dropping duplicates based on a specific column\n",
        "\n",
        "Implement your chosen strategy using the `drop_duplicates()` function.\n",
        "\n",
        "Verify that your strategy has successfully handled the duplicates by checking for duplicates again using `.duplicated()`.\n",
        "\n",
        "Remember to document your process and explain your reasoning for choosing a particular strategy for handling duplicates.\n",
        "\n",
        "Save the cleaned dataset to a new CSV file.\n",
        "\n",
        "*Hint*: *after dropping duplicates, reset the index to ensure consistency*."
      ]
    },
    {
      "cell_type": "code",
      "execution_count": 65,
      "id": "1929362c-47ed-47cb-baca-358b78d401a0",
      "metadata": {
        "id": "1929362c-47ed-47cb-baca-358b78d401a0"
      },
      "outputs": [
        {
          "data": {
            "text/html": [
              "<div>\n",
              "<style scoped>\n",
              "    .dataframe tbody tr th:only-of-type {\n",
              "        vertical-align: middle;\n",
              "    }\n",
              "\n",
              "    .dataframe tbody tr th {\n",
              "        vertical-align: top;\n",
              "    }\n",
              "\n",
              "    .dataframe thead th {\n",
              "        text-align: right;\n",
              "    }\n",
              "</style>\n",
              "<table border=\"1\" class=\"dataframe\">\n",
              "  <thead>\n",
              "    <tr style=\"text-align: right;\">\n",
              "      <th></th>\n",
              "      <th>customer</th>\n",
              "      <th>state</th>\n",
              "      <th>gender</th>\n",
              "      <th>education</th>\n",
              "      <th>customer_lifetime_value</th>\n",
              "      <th>income</th>\n",
              "      <th>monthly_premium_auto</th>\n",
              "      <th>number_of_open_complaints</th>\n",
              "      <th>policy_type</th>\n",
              "      <th>vehicle_class</th>\n",
              "      <th>total_claim_amount</th>\n",
              "    </tr>\n",
              "  </thead>\n",
              "  <tbody>\n",
              "    <tr>\n",
              "      <th>1071</th>\n",
              "      <td>NaN</td>\n",
              "      <td>NaN</td>\n",
              "      <td>NaN</td>\n",
              "      <td>NaN</td>\n",
              "      <td>NaN</td>\n",
              "      <td>NaN</td>\n",
              "      <td>NaN</td>\n",
              "      <td>NaN</td>\n",
              "      <td>NaN</td>\n",
              "      <td>NaN</td>\n",
              "      <td>NaN</td>\n",
              "    </tr>\n",
              "    <tr>\n",
              "      <th>1072</th>\n",
              "      <td>NaN</td>\n",
              "      <td>NaN</td>\n",
              "      <td>NaN</td>\n",
              "      <td>NaN</td>\n",
              "      <td>NaN</td>\n",
              "      <td>NaN</td>\n",
              "      <td>NaN</td>\n",
              "      <td>NaN</td>\n",
              "      <td>NaN</td>\n",
              "      <td>NaN</td>\n",
              "      <td>NaN</td>\n",
              "    </tr>\n",
              "    <tr>\n",
              "      <th>1073</th>\n",
              "      <td>NaN</td>\n",
              "      <td>NaN</td>\n",
              "      <td>NaN</td>\n",
              "      <td>NaN</td>\n",
              "      <td>NaN</td>\n",
              "      <td>NaN</td>\n",
              "      <td>NaN</td>\n",
              "      <td>NaN</td>\n",
              "      <td>NaN</td>\n",
              "      <td>NaN</td>\n",
              "      <td>NaN</td>\n",
              "    </tr>\n",
              "    <tr>\n",
              "      <th>1074</th>\n",
              "      <td>NaN</td>\n",
              "      <td>NaN</td>\n",
              "      <td>NaN</td>\n",
              "      <td>NaN</td>\n",
              "      <td>NaN</td>\n",
              "      <td>NaN</td>\n",
              "      <td>NaN</td>\n",
              "      <td>NaN</td>\n",
              "      <td>NaN</td>\n",
              "      <td>NaN</td>\n",
              "      <td>NaN</td>\n",
              "    </tr>\n",
              "    <tr>\n",
              "      <th>1075</th>\n",
              "      <td>NaN</td>\n",
              "      <td>NaN</td>\n",
              "      <td>NaN</td>\n",
              "      <td>NaN</td>\n",
              "      <td>NaN</td>\n",
              "      <td>NaN</td>\n",
              "      <td>NaN</td>\n",
              "      <td>NaN</td>\n",
              "      <td>NaN</td>\n",
              "      <td>NaN</td>\n",
              "      <td>NaN</td>\n",
              "    </tr>\n",
              "    <tr>\n",
              "      <th>1076</th>\n",
              "      <td>NaN</td>\n",
              "      <td>NaN</td>\n",
              "      <td>NaN</td>\n",
              "      <td>NaN</td>\n",
              "      <td>NaN</td>\n",
              "      <td>NaN</td>\n",
              "      <td>NaN</td>\n",
              "      <td>NaN</td>\n",
              "      <td>NaN</td>\n",
              "      <td>NaN</td>\n",
              "      <td>NaN</td>\n",
              "    </tr>\n",
              "    <tr>\n",
              "      <th>1077</th>\n",
              "      <td>NaN</td>\n",
              "      <td>NaN</td>\n",
              "      <td>NaN</td>\n",
              "      <td>NaN</td>\n",
              "      <td>NaN</td>\n",
              "      <td>NaN</td>\n",
              "      <td>NaN</td>\n",
              "      <td>NaN</td>\n",
              "      <td>NaN</td>\n",
              "      <td>NaN</td>\n",
              "      <td>NaN</td>\n",
              "    </tr>\n",
              "    <tr>\n",
              "      <th>1078</th>\n",
              "      <td>NaN</td>\n",
              "      <td>NaN</td>\n",
              "      <td>NaN</td>\n",
              "      <td>NaN</td>\n",
              "      <td>NaN</td>\n",
              "      <td>NaN</td>\n",
              "      <td>NaN</td>\n",
              "      <td>NaN</td>\n",
              "      <td>NaN</td>\n",
              "      <td>NaN</td>\n",
              "      <td>NaN</td>\n",
              "    </tr>\n",
              "    <tr>\n",
              "      <th>1079</th>\n",
              "      <td>NaN</td>\n",
              "      <td>NaN</td>\n",
              "      <td>NaN</td>\n",
              "      <td>NaN</td>\n",
              "      <td>NaN</td>\n",
              "      <td>NaN</td>\n",
              "      <td>NaN</td>\n",
              "      <td>NaN</td>\n",
              "      <td>NaN</td>\n",
              "      <td>NaN</td>\n",
              "      <td>NaN</td>\n",
              "    </tr>\n",
              "    <tr>\n",
              "      <th>1080</th>\n",
              "      <td>NaN</td>\n",
              "      <td>NaN</td>\n",
              "      <td>NaN</td>\n",
              "      <td>NaN</td>\n",
              "      <td>NaN</td>\n",
              "      <td>NaN</td>\n",
              "      <td>NaN</td>\n",
              "      <td>NaN</td>\n",
              "      <td>NaN</td>\n",
              "      <td>NaN</td>\n",
              "      <td>NaN</td>\n",
              "    </tr>\n",
              "  </tbody>\n",
              "</table>\n",
              "</div>"
            ],
            "text/plain": [
              "     customer state gender education customer_lifetime_value  income  \\\n",
              "1071      NaN   NaN    NaN       NaN                     NaN     NaN   \n",
              "1072      NaN   NaN    NaN       NaN                     NaN     NaN   \n",
              "1073      NaN   NaN    NaN       NaN                     NaN     NaN   \n",
              "1074      NaN   NaN    NaN       NaN                     NaN     NaN   \n",
              "1075      NaN   NaN    NaN       NaN                     NaN     NaN   \n",
              "1076      NaN   NaN    NaN       NaN                     NaN     NaN   \n",
              "1077      NaN   NaN    NaN       NaN                     NaN     NaN   \n",
              "1078      NaN   NaN    NaN       NaN                     NaN     NaN   \n",
              "1079      NaN   NaN    NaN       NaN                     NaN     NaN   \n",
              "1080      NaN   NaN    NaN       NaN                     NaN     NaN   \n",
              "\n",
              "      monthly_premium_auto number_of_open_complaints policy_type  \\\n",
              "1071                   NaN                       NaN         NaN   \n",
              "1072                   NaN                       NaN         NaN   \n",
              "1073                   NaN                       NaN         NaN   \n",
              "1074                   NaN                       NaN         NaN   \n",
              "1075                   NaN                       NaN         NaN   \n",
              "1076                   NaN                       NaN         NaN   \n",
              "1077                   NaN                       NaN         NaN   \n",
              "1078                   NaN                       NaN         NaN   \n",
              "1079                   NaN                       NaN         NaN   \n",
              "1080                   NaN                       NaN         NaN   \n",
              "\n",
              "     vehicle_class  total_claim_amount  \n",
              "1071           NaN                 NaN  \n",
              "1072           NaN                 NaN  \n",
              "1073           NaN                 NaN  \n",
              "1074           NaN                 NaN  \n",
              "1075           NaN                 NaN  \n",
              "1076           NaN                 NaN  \n",
              "1077           NaN                 NaN  \n",
              "1078           NaN                 NaN  \n",
              "1079           NaN                 NaN  \n",
              "1080           NaN                 NaN  "
            ]
          },
          "execution_count": 65,
          "metadata": {},
          "output_type": "execute_result"
        }
      ],
      "source": [
        "df.duplicated().sum()                         \n",
        "df[df.duplicated(keep=False)].head(10)"
      ]
    },
    {
      "cell_type": "code",
      "execution_count": 67,
      "id": "0b6469f4",
      "metadata": {},
      "outputs": [
        {
          "data": {
            "text/plain": [
              "['customer']"
            ]
          },
          "execution_count": 67,
          "metadata": {},
          "output_type": "execute_result"
        }
      ],
      "source": [
        "subset_cols = [c for c in ['customer','customer_id','policy_number','effective_to_date','email']\n",
        "               if c in df.columns]\n",
        "subset_cols  \n"
      ]
    },
    {
      "cell_type": "code",
      "execution_count": 68,
      "id": "5dd7f4b4",
      "metadata": {},
      "outputs": [
        {
          "data": {
            "text/html": [
              "<div>\n",
              "<style scoped>\n",
              "    .dataframe tbody tr th:only-of-type {\n",
              "        vertical-align: middle;\n",
              "    }\n",
              "\n",
              "    .dataframe tbody tr th {\n",
              "        vertical-align: top;\n",
              "    }\n",
              "\n",
              "    .dataframe thead th {\n",
              "        text-align: right;\n",
              "    }\n",
              "</style>\n",
              "<table border=\"1\" class=\"dataframe\">\n",
              "  <thead>\n",
              "    <tr style=\"text-align: right;\">\n",
              "      <th></th>\n",
              "      <th>customer</th>\n",
              "    </tr>\n",
              "  </thead>\n",
              "  <tbody>\n",
              "    <tr>\n",
              "      <th>1071</th>\n",
              "      <td>NaN</td>\n",
              "    </tr>\n",
              "    <tr>\n",
              "      <th>1072</th>\n",
              "      <td>NaN</td>\n",
              "    </tr>\n",
              "    <tr>\n",
              "      <th>1073</th>\n",
              "      <td>NaN</td>\n",
              "    </tr>\n",
              "    <tr>\n",
              "      <th>1074</th>\n",
              "      <td>NaN</td>\n",
              "    </tr>\n",
              "    <tr>\n",
              "      <th>1075</th>\n",
              "      <td>NaN</td>\n",
              "    </tr>\n",
              "    <tr>\n",
              "      <th>1076</th>\n",
              "      <td>NaN</td>\n",
              "    </tr>\n",
              "    <tr>\n",
              "      <th>1077</th>\n",
              "      <td>NaN</td>\n",
              "    </tr>\n",
              "    <tr>\n",
              "      <th>1078</th>\n",
              "      <td>NaN</td>\n",
              "    </tr>\n",
              "    <tr>\n",
              "      <th>1079</th>\n",
              "      <td>NaN</td>\n",
              "    </tr>\n",
              "    <tr>\n",
              "      <th>1080</th>\n",
              "      <td>NaN</td>\n",
              "    </tr>\n",
              "  </tbody>\n",
              "</table>\n",
              "</div>"
            ],
            "text/plain": [
              "     customer\n",
              "1071      NaN\n",
              "1072      NaN\n",
              "1073      NaN\n",
              "1074      NaN\n",
              "1075      NaN\n",
              "1076      NaN\n",
              "1077      NaN\n",
              "1078      NaN\n",
              "1079      NaN\n",
              "1080      NaN"
            ]
          },
          "execution_count": 68,
          "metadata": {},
          "output_type": "execute_result"
        }
      ],
      "source": [
        "df.duplicated(subset=subset_cols).sum() \n",
        "df[df.duplicated(subset=subset_cols, keep=False)][subset_cols].head(10)"
      ]
    },
    {
      "cell_type": "code",
      "execution_count": 69,
      "id": "240c65c1",
      "metadata": {},
      "outputs": [
        {
          "data": {
            "text/plain": [
              "((1072, 11), (1072, 11))"
            ]
          },
          "execution_count": 69,
          "metadata": {},
          "output_type": "execute_result"
        }
      ],
      "source": [
        "df1 = df.drop_duplicates(keep='first').reset_index(drop=True)\n",
        "df.shape, df1.shape \n",
        "\n",
        "if len(subset_cols) > 0:\n",
        "    if 'effective_to_date' in df1.columns:\n",
        "        df1 = df1.sort_values('effective_to_date', ascending=False)\n",
        "    df2 = df1.drop_duplicates(subset=subset_cols, keep='first').reset_index(drop=True)\n",
        "else:\n",
        "    df2 = df1.copy()\n",
        "\n",
        "df1.shape, df2.shape   "
      ]
    },
    {
      "cell_type": "code",
      "execution_count": 70,
      "id": "481024a6",
      "metadata": {},
      "outputs": [
        {
          "data": {
            "text/plain": [
              "np.int64(0)"
            ]
          },
          "execution_count": 70,
          "metadata": {},
          "output_type": "execute_result"
        }
      ],
      "source": [
        "df2.duplicated().sum()\n",
        "df2.duplicated(subset=subset_cols).sum() if len(subset_cols)>0 else 0  "
      ]
    },
    {
      "cell_type": "code",
      "execution_count": 71,
      "id": "91fc4dd3",
      "metadata": {},
      "outputs": [
        {
          "data": {
            "text/plain": [
              "'cleaned_file1_no_duplicates.csv'"
            ]
          },
          "execution_count": 71,
          "metadata": {},
          "output_type": "execute_result"
        }
      ],
      "source": [
        "output_path = \"cleaned_file1_no_duplicates.csv\"\n",
        "df2.to_csv(output_path, index=False)\n",
        "output_path  "
      ]
    },
    {
      "cell_type": "markdown",
      "id": "60840701-4783-40e2-b4d8-55303f9100c9",
      "metadata": {
        "id": "60840701-4783-40e2-b4d8-55303f9100c9"
      },
      "source": [
        "# Bonus: Challenge 2: creating functions on a separate `py` file"
      ]
    },
    {
      "cell_type": "markdown",
      "id": "9d1adb3a-17cf-4899-8041-da21a4337fb4",
      "metadata": {
        "id": "9d1adb3a-17cf-4899-8041-da21a4337fb4"
      },
      "source": [
        "Put all the data cleaning and formatting steps into functions, and create a main function that performs all the cleaning and formatting.\n",
        "\n",
        "Write these functions in separate .py file(s). By putting these steps into functions, we can make the code more modular and easier to maintain."
      ]
    },
    {
      "cell_type": "markdown",
      "id": "0e170dc2-b62c-417a-8248-e63ed18a70c4",
      "metadata": {
        "id": "0e170dc2-b62c-417a-8248-e63ed18a70c4"
      },
      "source": [
        "*Hint: autoreload module is a utility module in Python that allows you to automatically reload modules in the current session when changes are made to the source code. This can be useful in situations where you are actively developing code and want to see the effects of changes you make without having to constantly restart the Python interpreter or Jupyter Notebook kernel.*"
      ]
    },
    {
      "cell_type": "code",
      "execution_count": 72,
      "id": "a52c6dfc-cd11-4d01-bda4-f719fa33e9a4",
      "metadata": {
        "id": "a52c6dfc-cd11-4d01-bda4-f719fa33e9a4"
      },
      "outputs": [],
      "source": [
        "def clean_colnames(df: pd.DataFrame) -> pd.DataFrame:\n",
        "    def _clean(name: str) -> str:\n",
        "        s = str(name).strip().lower()\n",
        "        s = s.replace(\"\\t\", \" \").replace(\"-\", \" \")\n",
        "        while \"  \" in s:\n",
        "            s = s.replace(\"  \", \" \")\n",
        "        parts = [(\"state\" if p == \"st\" else p) for p in s.split(\" \") if p != \"\"]\n",
        "        return \"_\".join(parts).strip(\"_\")\n",
        "    df = df.copy()\n",
        "    df.columns = [_clean(c) for c in df.columns]\n",
        "    return df"
      ]
    },
    {
      "cell_type": "code",
      "execution_count": 76,
      "id": "2c3faebf",
      "metadata": {},
      "outputs": [],
      "source": [
        "def clean_invalid_values(df: pd.DataFrame) -> pd.DataFrame:\n",
        "    df = df.copy()\n",
        "\n",
        "    if 'gender' in df.columns:\n",
        "        g = df['gender'].astype(str).str.strip().str.lower().str[0]\n",
        "        df['gender'] = g.where(g.isin(['m','f'])).map({'m':'M','f':'F'})\n",
        "\n",
        "    if 'state' in df.columns:\n",
        "        s = df['state'].astype(str).str.strip().str.lower()\n",
        "        state_map = {\n",
        "            'az':'arizona','arizona':'arizona',\n",
        "            'cali':'california','ca':'california',\n",
        "            'wa':'washington','ny':'new york'\n",
        "        }\n",
        "        df['state'] = s.replace(state_map).str.title()\n",
        "    \n",
        "    if 'education' in df.columns:\n",
        "        df['education'] = (df['education'].astype(str).str.strip()\n",
        "                           .str.replace('bachelors','bachelor',case=False)\n",
        "                           .str.title())\n",
        "        \n",
        "    if 'customer_lifetime_value' in df.columns:\n",
        "        df['customer_lifetime_value'] = (df['customer_lifetime_value']\n",
        "                                         .astype(str)\n",
        "                                         .str.replace('%','',regex=False)\n",
        "                                         .str.replace(',','',regex=False))\n",
        "    \n",
        "    if 'vehicle_class' in df.columns:\n",
        "        v = (df['vehicle_class'].astype(str).str.strip().str.lower()\n",
        "             .replace({'sports car':'luxury','luxury suv':'luxury','luxury car':'luxury'}))\n",
        "        df['vehicle_class'] = v.str.title()\n",
        "\n",
        "    return df"
      ]
    },
    {
      "cell_type": "code",
      "execution_count": 77,
      "id": "789baa42",
      "metadata": {},
      "outputs": [],
      "source": [
        "def format_dtypes(df: pd.DataFrame) -> pd.DataFrame:\n",
        "    df = df.copy()\n",
        "\n",
        "    \n",
        "    if 'customer_lifetime_value' in df.columns:\n",
        "        df['customer_lifetime_value'] = pd.to_numeric(df['customer_lifetime_value'], errors='coerce')\n",
        "\n",
        "   \n",
        "    if 'number_of_open_complaints' in df.columns:\n",
        "        mid = (df['number_of_open_complaints'].astype(str)\n",
        "               .str.replace('-', '/', regex=False)\n",
        "               .str.split('/').str.get(1))\n",
        "        df['number_of_open_complaints'] = pd.to_numeric(mid, errors='coerce').astype('Int64')\n",
        "\n",
        "    \n",
        "    for col in ['number_of_policies','monthly_premium_auto','income','total_claim_amount']:\n",
        "        if col in df.columns:\n",
        "            df[col] = pd.to_numeric(df[col], errors='coerce')\n",
        "\n",
        "    \n",
        "    if 'effective_to_date' in df.columns:\n",
        "        df['effective_to_date'] = pd.to_datetime(df['effective_to_date'], errors='coerce')\n",
        "\n",
        "    \n",
        "    for c in ['response','coverage','education','employmentstatus','gender',\n",
        "              'location_code','state','vehicle_class']:\n",
        "        if c in df.columns:\n",
        "            df[c] = df[c].astype('category')\n",
        "\n",
        "    return df"
      ]
    },
    {
      "cell_type": "code",
      "execution_count": 78,
      "id": "65f907b5",
      "metadata": {},
      "outputs": [],
      "source": [
        "def handle_nulls(df: pd.DataFrame, numeric='median', categorical='mode') -> pd.DataFrame:\n",
        "\n",
        "    df = df.copy()\n",
        "    for col in df.columns:\n",
        "        if str(df[col].dtype) in ['float64','int64','Int64']:\n",
        "            if numeric == 'median':\n",
        "                fill = df[col].median()\n",
        "            elif numeric == 'mean':\n",
        "                fill = df[col].mean()\n",
        "            else:\n",
        "                fill = numeric\n",
        "            df[col] = df[col].fillna(fill)\n",
        "        else:\n",
        "            if categorical == 'mode':\n",
        "                fill = df[col].mode(dropna=True)\n",
        "                fill = fill.iloc[0] if not fill.empty else df[col].dropna().iloc[0] if df[col].notna().any() else ''\n",
        "            else:\n",
        "                fill = categorical\n",
        "            df[col] = df[col].fillna(fill)\n",
        "    return df"
      ]
    },
    {
      "cell_type": "code",
      "execution_count": 79,
      "id": "5a612f23",
      "metadata": {},
      "outputs": [],
      "source": [
        "def drop_dupes(df: pd.DataFrame, subset_cols=None, keep='first') -> pd.DataFrame:\n",
        "    df = df.copy()\n",
        "    df = df.drop_duplicates(keep=keep).reset_index(drop=True)\n",
        "    if subset_cols:\n",
        "        used = [c for c in subset_cols if c in df.columns]\n",
        "        if used:\n",
        "            if 'effective_to_date' in df.columns:\n",
        "                df = df.sort_values('effective_to_date', ascending=False)\n",
        "            df = df.drop_duplicates(subset=used, keep=keep).reset_index(drop=True)\n",
        "    return df"
      ]
    },
    {
      "cell_type": "code",
      "execution_count": 80,
      "id": "0c8821df",
      "metadata": {},
      "outputs": [],
      "source": [
        "def clean_all(url: str | None = None, df: pd.DataFrame | None = None,\n",
        "              subset_for_dupes=None, fill_numeric='median', fill_categorical='mode',\n",
        "              return_copy=True) -> pd.DataFrame:\n",
        "\n",
        "    assert (url is not None) ^ (df is not None), \"Proporciona 'url' o 'df', pero no ambos.\"\n",
        "    if url is not None:\n",
        "        df = pd.read_csv(url)\n",
        "\n",
        "    if return_copy:\n",
        "        df = df.copy()\n",
        "\n",
        "    df = clean_colnames(df)\n",
        "    df = clean_invalid_values(df)\n",
        "    df = format_dtypes(df)\n",
        "    df = handle_nulls(df, numeric=fill_numeric, categorical=fill_categorical)\n",
        "    df = drop_dupes(df, subset_cols=subset_for_dupes, keep='first')\n",
        "    return df"
      ]
    },
    {
      "cell_type": "markdown",
      "id": "80f846bb-3f5e-4ca2-96c0-900728daca5a",
      "metadata": {
        "id": "80f846bb-3f5e-4ca2-96c0-900728daca5a",
        "tags": []
      },
      "source": [
        "# Bonus: Challenge 3: Analyzing Clean and Formated Data"
      ]
    },
    {
      "cell_type": "markdown",
      "id": "9021630e-cc90-446c-b5bd-264d6c864207",
      "metadata": {
        "id": "9021630e-cc90-446c-b5bd-264d6c864207"
      },
      "source": [
        "You have been tasked with analyzing the data to identify potential areas for improving customer retention and profitability. Your goal is to identify customers with a high policy claim amount and a low customer lifetime value.\n",
        "\n",
        "In the Pandas Lab, we only looked at high policy claim amounts because we couldn't look into low customer lifetime values. If we had tried to work with that column, we wouldn't have been able to because customer lifetime value wasn't clean and in its proper format. So after cleaning and formatting the data, let's get some more interesting insights!\n",
        "\n",
        "Instructions:\n",
        "\n",
        "- Review the statistics again for total claim amount and customer lifetime value to gain an understanding of the data.\n",
        "- To identify potential areas for improving customer retention and profitability, we want to focus on customers with a high policy claim amount and a low customer lifetime value. Consider customers with a high policy claim amount to be those in the top 25% of the total claim amount, and clients with a low customer lifetime value to be those in the bottom 25% of the customer lifetime value. Create a pandas DataFrame object that contains information about customers with a policy claim amount greater than the 75th percentile and a customer lifetime value in the bottom 25th percentile.\n",
        "- Use DataFrame methods to calculate summary statistics about the high policy claim amount and low customer lifetime value data. To do so, select both columns of the dataframe simultaneously and pass it to the `.describe()` method. This will give you descriptive statistics, such as mean, median, standard deviation, minimum and maximum values for both columns at the same time, allowing you to compare and analyze their characteristics."
      ]
    },
    {
      "cell_type": "code",
      "execution_count": 82,
      "id": "211e82b5-461a-4d6f-8a23-4deccb84173c",
      "metadata": {
        "id": "211e82b5-461a-4d6f-8a23-4deccb84173c"
      },
      "outputs": [
        {
          "data": {
            "text/html": [
              "<div>\n",
              "<style scoped>\n",
              "    .dataframe tbody tr th:only-of-type {\n",
              "        vertical-align: middle;\n",
              "    }\n",
              "\n",
              "    .dataframe tbody tr th {\n",
              "        vertical-align: top;\n",
              "    }\n",
              "\n",
              "    .dataframe thead th {\n",
              "        text-align: right;\n",
              "    }\n",
              "</style>\n",
              "<table border=\"1\" class=\"dataframe\">\n",
              "  <thead>\n",
              "    <tr style=\"text-align: right;\">\n",
              "      <th></th>\n",
              "      <th>total_claim_amount</th>\n",
              "    </tr>\n",
              "  </thead>\n",
              "  <tbody>\n",
              "    <tr>\n",
              "      <th>count</th>\n",
              "      <td>1071.000000</td>\n",
              "    </tr>\n",
              "    <tr>\n",
              "      <th>mean</th>\n",
              "      <td>404.986909</td>\n",
              "    </tr>\n",
              "    <tr>\n",
              "      <th>std</th>\n",
              "      <td>293.027260</td>\n",
              "    </tr>\n",
              "    <tr>\n",
              "      <th>min</th>\n",
              "      <td>0.382107</td>\n",
              "    </tr>\n",
              "    <tr>\n",
              "      <th>25%</th>\n",
              "      <td>202.157702</td>\n",
              "    </tr>\n",
              "    <tr>\n",
              "      <th>50%</th>\n",
              "      <td>354.729129</td>\n",
              "    </tr>\n",
              "    <tr>\n",
              "      <th>75%</th>\n",
              "      <td>532.800000</td>\n",
              "    </tr>\n",
              "    <tr>\n",
              "      <th>max</th>\n",
              "      <td>2893.239678</td>\n",
              "    </tr>\n",
              "  </tbody>\n",
              "</table>\n",
              "</div>"
            ],
            "text/plain": [
              "       total_claim_amount\n",
              "count         1071.000000\n",
              "mean           404.986909\n",
              "std            293.027260\n",
              "min              0.382107\n",
              "25%            202.157702\n",
              "50%            354.729129\n",
              "75%            532.800000\n",
              "max           2893.239678"
            ]
          },
          "execution_count": 82,
          "metadata": {},
          "output_type": "execute_result"
        }
      ],
      "source": [
        "df[['total_claim_amount', 'customer_lifetime_value']].describe()"
      ]
    },
    {
      "cell_type": "code",
      "execution_count": 85,
      "id": "d0b2cb7a",
      "metadata": {},
      "outputs": [
        {
          "data": {
            "text/plain": [
              "0           NaN\n",
              "1     697953.59\n",
              "2    1288743.17\n",
              "3     764586.18\n",
              "4     536307.65\n",
              "5     825629.78\n",
              "6     538089.86\n",
              "7     721610.03\n",
              "8    2412750.40\n",
              "9     738817.81\n",
              "Name: customer_lifetime_value, dtype: float64"
            ]
          },
          "execution_count": 85,
          "metadata": {},
          "output_type": "execute_result"
        }
      ],
      "source": [
        "df['customer_lifetime_value'] = (df['customer_lifetime_value']\n",
        "                                 .astype(str)\n",
        "                                 .str.replace('%','',regex=False)\n",
        "                                 .str.replace(',','',regex=False))\n",
        "df['customer_lifetime_value'] = pd.to_numeric(df['customer_lifetime_value'], errors='coerce')\n",
        "df['customer_lifetime_value'].head(10)"
      ]
    },
    {
      "cell_type": "code",
      "execution_count": 86,
      "id": "49ef725f",
      "metadata": {},
      "outputs": [
        {
          "data": {
            "text/plain": [
              "(np.float64(532.8), np.float64(403407.995))"
            ]
          },
          "execution_count": 86,
          "metadata": {},
          "output_type": "execute_result"
        }
      ],
      "source": [
        "p75_claim = df['total_claim_amount'].quantile(0.75)\n",
        "p25_clv   = df['customer_lifetime_value'].quantile(0.25)\n",
        "p75_claim, p25_clv"
      ]
    },
    {
      "cell_type": "code",
      "execution_count": 87,
      "id": "cb203a1a",
      "metadata": {},
      "outputs": [
        {
          "data": {
            "text/plain": [
              "(41, 11)"
            ]
          },
          "execution_count": 87,
          "metadata": {},
          "output_type": "execute_result"
        }
      ],
      "source": [
        "high_claim_low_clv = df[\n",
        "    (df['total_claim_amount'] >= p75_claim) &\n",
        "    (df['customer_lifetime_value'] <= p25_clv)\n",
        "]\n",
        "high_claim_low_clv.shape"
      ]
    },
    {
      "cell_type": "code",
      "execution_count": 88,
      "id": "e52382b3",
      "metadata": {},
      "outputs": [
        {
          "data": {
            "text/html": [
              "<div>\n",
              "<style scoped>\n",
              "    .dataframe tbody tr th:only-of-type {\n",
              "        vertical-align: middle;\n",
              "    }\n",
              "\n",
              "    .dataframe tbody tr th {\n",
              "        vertical-align: top;\n",
              "    }\n",
              "\n",
              "    .dataframe thead th {\n",
              "        text-align: right;\n",
              "    }\n",
              "</style>\n",
              "<table border=\"1\" class=\"dataframe\">\n",
              "  <thead>\n",
              "    <tr style=\"text-align: right;\">\n",
              "      <th></th>\n",
              "      <th>customer</th>\n",
              "      <th>state</th>\n",
              "      <th>gender</th>\n",
              "      <th>education</th>\n",
              "      <th>customer_lifetime_value</th>\n",
              "      <th>income</th>\n",
              "      <th>monthly_premium_auto</th>\n",
              "      <th>number_of_open_complaints</th>\n",
              "      <th>policy_type</th>\n",
              "      <th>vehicle_class</th>\n",
              "      <th>total_claim_amount</th>\n",
              "    </tr>\n",
              "  </thead>\n",
              "  <tbody>\n",
              "    <tr>\n",
              "      <th>17</th>\n",
              "      <td>OE15005</td>\n",
              "      <td>Cali</td>\n",
              "      <td>NaN</td>\n",
              "      <td>College</td>\n",
              "      <td>394524.16</td>\n",
              "      <td>28855.0</td>\n",
              "      <td>101.0</td>\n",
              "      <td>1/0/00</td>\n",
              "      <td>Personal Auto</td>\n",
              "      <td>SUV</td>\n",
              "      <td>647.442031</td>\n",
              "    </tr>\n",
              "    <tr>\n",
              "      <th>23</th>\n",
              "      <td>TZ98966</td>\n",
              "      <td>Nevada</td>\n",
              "      <td>NaN</td>\n",
              "      <td>Bachelor</td>\n",
              "      <td>245019.10</td>\n",
              "      <td>0.0</td>\n",
              "      <td>73.0</td>\n",
              "      <td>1/3/00</td>\n",
              "      <td>Corporate Auto</td>\n",
              "      <td>Four-Door Car</td>\n",
              "      <td>554.376763</td>\n",
              "    </tr>\n",
              "    <tr>\n",
              "      <th>26</th>\n",
              "      <td>US89481</td>\n",
              "      <td>California</td>\n",
              "      <td>NaN</td>\n",
              "      <td>Bachelor</td>\n",
              "      <td>394637.21</td>\n",
              "      <td>0.0</td>\n",
              "      <td>111.0</td>\n",
              "      <td>1/0/00</td>\n",
              "      <td>Personal Auto</td>\n",
              "      <td>Four-Door Car</td>\n",
              "      <td>799.200000</td>\n",
              "    </tr>\n",
              "    <tr>\n",
              "      <th>38</th>\n",
              "      <td>CM61827</td>\n",
              "      <td>Oregon</td>\n",
              "      <td>NaN</td>\n",
              "      <td>Bachelor</td>\n",
              "      <td>309003.41</td>\n",
              "      <td>0.0</td>\n",
              "      <td>90.0</td>\n",
              "      <td>1/0/00</td>\n",
              "      <td>Personal Auto</td>\n",
              "      <td>Two-Door Car</td>\n",
              "      <td>648.000000</td>\n",
              "    </tr>\n",
              "    <tr>\n",
              "      <th>42</th>\n",
              "      <td>IL19217</td>\n",
              "      <td>California</td>\n",
              "      <td>NaN</td>\n",
              "      <td>Bachelor</td>\n",
              "      <td>393900.64</td>\n",
              "      <td>60021.0</td>\n",
              "      <td>99.0</td>\n",
              "      <td>1/0/00</td>\n",
              "      <td>Personal Auto</td>\n",
              "      <td>Four-Door Car</td>\n",
              "      <td>882.871945</td>\n",
              "    </tr>\n",
              "  </tbody>\n",
              "</table>\n",
              "</div>"
            ],
            "text/plain": [
              "   customer       state gender education  customer_lifetime_value   income  \\\n",
              "17  OE15005        Cali    NaN   College                394524.16  28855.0   \n",
              "23  TZ98966      Nevada    NaN  Bachelor                245019.10      0.0   \n",
              "26  US89481  California    NaN  Bachelor                394637.21      0.0   \n",
              "38  CM61827      Oregon    NaN  Bachelor                309003.41      0.0   \n",
              "42  IL19217  California    NaN  Bachelor                393900.64  60021.0   \n",
              "\n",
              "    monthly_premium_auto number_of_open_complaints     policy_type  \\\n",
              "17                 101.0                    1/0/00   Personal Auto   \n",
              "23                  73.0                    1/3/00  Corporate Auto   \n",
              "26                 111.0                    1/0/00   Personal Auto   \n",
              "38                  90.0                    1/0/00   Personal Auto   \n",
              "42                  99.0                    1/0/00   Personal Auto   \n",
              "\n",
              "    vehicle_class  total_claim_amount  \n",
              "17            SUV          647.442031  \n",
              "23  Four-Door Car          554.376763  \n",
              "26  Four-Door Car          799.200000  \n",
              "38   Two-Door Car          648.000000  \n",
              "42  Four-Door Car          882.871945  "
            ]
          },
          "execution_count": 88,
          "metadata": {},
          "output_type": "execute_result"
        }
      ],
      "source": [
        "high_claim_low_clv.head()"
      ]
    },
    {
      "cell_type": "code",
      "execution_count": 89,
      "id": "5d962d26",
      "metadata": {},
      "outputs": [
        {
          "data": {
            "text/html": [
              "<div>\n",
              "<style scoped>\n",
              "    .dataframe tbody tr th:only-of-type {\n",
              "        vertical-align: middle;\n",
              "    }\n",
              "\n",
              "    .dataframe tbody tr th {\n",
              "        vertical-align: top;\n",
              "    }\n",
              "\n",
              "    .dataframe thead th {\n",
              "        text-align: right;\n",
              "    }\n",
              "</style>\n",
              "<table border=\"1\" class=\"dataframe\">\n",
              "  <thead>\n",
              "    <tr style=\"text-align: right;\">\n",
              "      <th></th>\n",
              "      <th>total_claim_amount</th>\n",
              "      <th>customer_lifetime_value</th>\n",
              "    </tr>\n",
              "  </thead>\n",
              "  <tbody>\n",
              "    <tr>\n",
              "      <th>count</th>\n",
              "      <td>41.000000</td>\n",
              "      <td>41.000000</td>\n",
              "    </tr>\n",
              "    <tr>\n",
              "      <th>mean</th>\n",
              "      <td>719.118612</td>\n",
              "      <td>340056.269512</td>\n",
              "    </tr>\n",
              "    <tr>\n",
              "      <th>std</th>\n",
              "      <td>150.389974</td>\n",
              "      <td>57043.699118</td>\n",
              "    </tr>\n",
              "    <tr>\n",
              "      <th>min</th>\n",
              "      <td>532.800000</td>\n",
              "      <td>228759.690000</td>\n",
              "    </tr>\n",
              "    <tr>\n",
              "      <th>25%</th>\n",
              "      <td>632.715382</td>\n",
              "      <td>289873.270000</td>\n",
              "    </tr>\n",
              "    <tr>\n",
              "      <th>50%</th>\n",
              "      <td>679.368378</td>\n",
              "      <td>365253.240000</td>\n",
              "    </tr>\n",
              "    <tr>\n",
              "      <th>75%</th>\n",
              "      <td>799.200000</td>\n",
              "      <td>387364.700000</td>\n",
              "    </tr>\n",
              "    <tr>\n",
              "      <th>max</th>\n",
              "      <td>1185.988301</td>\n",
              "      <td>402381.440000</td>\n",
              "    </tr>\n",
              "  </tbody>\n",
              "</table>\n",
              "</div>"
            ],
            "text/plain": [
              "       total_claim_amount  customer_lifetime_value\n",
              "count           41.000000                41.000000\n",
              "mean           719.118612            340056.269512\n",
              "std            150.389974             57043.699118\n",
              "min            532.800000            228759.690000\n",
              "25%            632.715382            289873.270000\n",
              "50%            679.368378            365253.240000\n",
              "75%            799.200000            387364.700000\n",
              "max           1185.988301            402381.440000"
            ]
          },
          "execution_count": 89,
          "metadata": {},
          "output_type": "execute_result"
        }
      ],
      "source": [
        "high_claim_low_clv[['total_claim_amount','customer_lifetime_value']].describe()"
      ]
    },
    {
      "cell_type": "code",
      "execution_count": null,
      "id": "de18d0d7",
      "metadata": {},
      "outputs": [],
      "source": []
    }
  ],
  "metadata": {
    "colab": {
      "provenance": []
    },
    "kernelspec": {
      "display_name": "base",
      "language": "python",
      "name": "python3"
    },
    "language_info": {
      "codemirror_mode": {
        "name": "ipython",
        "version": 3
      },
      "file_extension": ".py",
      "mimetype": "text/x-python",
      "name": "python",
      "nbconvert_exporter": "python",
      "pygments_lexer": "ipython3",
      "version": "3.13.5"
    }
  },
  "nbformat": 4,
  "nbformat_minor": 5
}
